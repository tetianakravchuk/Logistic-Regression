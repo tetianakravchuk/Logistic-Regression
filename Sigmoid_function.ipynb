{
 "cells": [
  {
   "cell_type": "markdown",
   "metadata": {},
   "source": [
    "# Logistic Regression\n",
    "\n",
    "- explore the sigmoid function (also known as the logistic function)\n",
    "- explore logistic regression; which uses the sigmoid function"
   ]
  },
  {
   "cell_type": "code",
   "execution_count": null,
   "metadata": {},
   "outputs": [
    {
     "name": "stdout",
     "output_type": "stream",
     "text": [
      "      price  area  bedrooms  bathrooms  stories mainroad guestroom basement  \\\n",
      "0  13300000  7420         4          2        3      yes        no       no   \n",
      "1  12250000  8960         4          4        4      yes        no       no   \n",
      "2  12250000  9960         3          2        2      yes        no      yes   \n",
      "3  12215000  7500         4          2        2      yes        no      yes   \n",
      "4  11410000  7420         4          1        2      yes       yes      yes   \n",
      "\n",
      "  hotwaterheating airconditioning  parking prefarea furnishingstatus  \n",
      "0              no             yes        2      yes        furnished  \n",
      "1              no             yes        3       no        furnished  \n",
      "2              no              no        2      yes   semi-furnished  \n",
      "3              no             yes        3      yes        furnished  \n",
      "4              no             yes        2       no        furnished  \n"
     ]
    }
   ],
   "source": [
    "import numpy as np\n",
    "import matplotlib.pyplot as plt\n",
    "import pandas as pd\n",
    "\n",
    "# Specify the path to your dataset\n",
    "dataset_path = '/Users/tetianakravchuk/Desktop/CourseraProjects/Logistic Regression/Logistic-Regression/Housing.csv'\n",
    "\n",
    "# Load the dataset\n",
    "data = pd.read_csv(dataset_path)\n",
    "\n",
    "# Display the first few rows of the dataset\n",
    "print(data.head())"
   ]
  },
  {
   "cell_type": "markdown",
   "metadata": {},
   "source": [
    "## Sigmoid or Logistic Function\n",
    "\n",
    "\n",
    " >Linear regression model, $f_{\\mathbf{w},b}(\\mathbf{x}^{(i)}) = \\mathbf{w} \\cdot  \\mathbf{x}^{(i)} + b$, to predict $y$ given $x$. \n",
    "\n",
    " \n",
    "- However, we would like the predictions of our classification model to be between 0 and 1 since our output variable $y$ is either 0 or 1. \n",
    "- This can be accomplished by using a \"sigmoid function\" which maps all input values to values between 0 and 1. \n",
    "\n",
    "\n",
    "Let's implement the sigmoid function and see this for ourselves.\n",
    "\n",
    "## Formula for Sigmoid function\n",
    "\n",
    "The formula for a sigmoid function is as follows -  \n",
    "\n",
    "$g(z) = \\frac{1}{1+e^{-z}}\\tag{1}$\n",
    "\n",
    "In the case of logistic regression, z (the input to the sigmoid function), is the output of a linear regression model. \n",
    "- In the case of a single example, $z$ is scalar.\n",
    "- in the case of multiple examples, $z$ may be a vector consisting of $m$ values, one for each example. \n",
    "- The implementation of the sigmoid function should cover both of these potential input formats.\n",
    "Let's implement this in Python."
   ]
  },
  {
   "cell_type": "markdown",
   "metadata": {},
   "source": [
    "NumPy has a function called [`exp()`](https://numpy.org/doc/stable/reference/generated/numpy.exp.html), which offers a convenient way to calculate the exponential ( $e^{z}$) of all elements in the input array (`z`).\n",
    " \n",
    "It also works with a single number as an input, as shown below."
   ]
  },
  {
   "cell_type": "code",
   "execution_count": 25,
   "metadata": {},
   "outputs": [
    {
     "name": "stdout",
     "output_type": "stream",
     "text": [
      "Input to exp: [1 2 3]\n",
      "Output of exp: [ 2.718  7.389 20.086]\n",
      "Input to exp: 1\n",
      "Output of exp: 2.718281828459045\n"
     ]
    }
   ],
   "source": [
    "# Input is an array. \n",
    "input_array = np.array([1,2,3])\n",
    "exp_array = np.exp(input_array)\n",
    "\n",
    "print(\"Input to exp:\", input_array)\n",
    "print(\"Output of exp:\", exp_array)\n",
    "\n",
    "# Input is a single number\n",
    "input_val = 1  \n",
    "exp_val = np.exp(input_val)\n",
    "\n",
    "print(\"Input to exp:\", input_val)\n",
    "print(\"Output of exp:\", exp_val)"
   ]
  },
  {
   "cell_type": "markdown",
   "metadata": {},
   "source": [
    "The `sigmoid` function is implemented in python as shown in the cell below."
   ]
  },
  {
   "cell_type": "code",
   "execution_count": 29,
   "metadata": {},
   "outputs": [],
   "source": [
    "def sigmoid(z):\n",
    "    \"\"\"\n",
    "    Compute the sigmoid of z\n",
    "\n",
    "    Args:\n",
    "        z (ndarray): A scalar, numpy array of any size.\n",
    "\n",
    "    Returns:\n",
    "        g (ndarray): sigmoid(z), with the same shape as z\n",
    "         \n",
    "    \"\"\"\n",
    "\n",
    "    g = 1/(1+np.exp(-z))\n",
    "   \n",
    "    return g"
   ]
  },
  {
   "cell_type": "markdown",
   "metadata": {},
   "source": [
    "Let's see what the output of this function is for various value of `z`"
   ]
  },
  {
   "cell_type": "code",
   "execution_count": 30,
   "metadata": {},
   "outputs": [
    {
     "name": "stdout",
     "output_type": "stream",
     "text": [
      "Input (z), Output (sigmoid(z))\n",
      "[[-1.000e+01  4.540e-05]\n",
      " [-9.000e+00  1.234e-04]\n",
      " [-8.000e+00  3.354e-04]\n",
      " [-7.000e+00  9.111e-04]\n",
      " [-6.000e+00  2.473e-03]\n",
      " [-5.000e+00  6.693e-03]\n",
      " [-4.000e+00  1.799e-02]\n",
      " [-3.000e+00  4.743e-02]\n",
      " [-2.000e+00  1.192e-01]\n",
      " [-1.000e+00  2.689e-01]\n",
      " [ 0.000e+00  5.000e-01]\n",
      " [ 1.000e+00  7.311e-01]\n",
      " [ 2.000e+00  8.808e-01]\n",
      " [ 3.000e+00  9.526e-01]\n",
      " [ 4.000e+00  9.820e-01]\n",
      " [ 5.000e+00  9.933e-01]\n",
      " [ 6.000e+00  9.975e-01]\n",
      " [ 7.000e+00  9.991e-01]\n",
      " [ 8.000e+00  9.997e-01]\n",
      " [ 9.000e+00  9.999e-01]\n",
      " [ 1.000e+01  1.000e+00]]\n"
     ]
    }
   ],
   "source": [
    "# Generate an array of evenly spaced values between -10 and 10\n",
    "z_tmp = np.arange(-10,11)\n",
    "\n",
    "# Use the function implemented above to get the sigmoid values\n",
    "y = sigmoid(z_tmp)\n",
    "\n",
    "# Code for pretty printing the two arrays next to each other\n",
    "np.set_printoptions(precision=3) \n",
    "print(\"Input (z), Output (sigmoid(z))\")\n",
    "print(np.c_[z_tmp, y])"
   ]
  },
  {
   "cell_type": "markdown",
   "metadata": {},
   "source": [
    "The values in the left column are `z`, and the values in the right column are `sigmoid(z)`. As you can see, the input values to the sigmoid range from -10 to 10, and the output values range from 0 to 1. \n",
    "\n",
    "Now, let's try to plot this function using the `matplotlib` library."
   ]
  },
  {
   "cell_type": "code",
   "execution_count": 33,
   "metadata": {},
   "outputs": [
    {
     "data": {
      "application/vnd.jupyter.widget-view+json": {
       "model_id": "c824cdf95b6d4389b7c1f0b6756a3299",
       "version_major": 2,
       "version_minor": 0
      },
      "image/png": "[encoded data removed]",
      "text/html": [
       "\n",
       "            <div style=\"display: inline-block;\">\n",
       "                <div class=\"jupyter-widgets widget-label\" style=\"text-align: center;\">\n",
       "                    Figure\n",
       "                </div>\n",
       "                <img src='data:image/png;base64,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' width=500.0/>\n",
       "            </div>\n",
       "        "
      ],
      "text/plain": [
       "Canvas(toolbar=Toolbar(toolitems=[('Home', 'Reset original view', 'home', 'home'), ('Back', 'Back to previous …"
      ]
     },
     "metadata": {},
     "output_type": "display_data"
    },
    {
     "name": "stderr",
     "output_type": "stream",
     "text": [
      "No such comm: c824cdf95b6d4389b7c1f0b6756a3299\n"
     ]
    }
   ],
   "source": [
    "# Define the draw_vthresh function\n",
    "def draw_vthresh(ax, thresh):\n",
    "\t\"\"\"\n",
    "\tDraw a vertical threshold line on the plot.\n",
    "\n",
    "\tArgs:\n",
    "\t\tax (matplotlib.axes._axes.Axes): The axes on which to draw the line.\n",
    "\t\tthresh (float): The x-coordinate of the vertical line.\n",
    "\t\"\"\"\n",
    "\tax.axvline(x=thresh, color='r', linestyle='--')\n",
    "\n",
    "# Plot z vs sigmoid(z)\n",
    "fig,ax = plt.subplots(1,1,figsize=(5,3))\n",
    "ax.plot(z_tmp, y, c=\"b\")\n",
    "\n",
    "ax.set_title(\"Sigmoid function\")\n",
    "ax.set_ylabel('sigmoid(z)')\n",
    "ax.set_xlabel('z')\n",
    "draw_vthresh(ax,0)"
   ]
  },
  {
   "cell_type": "markdown",
   "metadata": {},
   "source": [
    "As you can see, the sigmoid function approaches  `0` as `z` goes to large negative values and approaches `1` as `z` goes to large positive values.\n"
   ]
  },
  {
   "cell_type": "markdown",
   "metadata": {},
   "source": [
    "## Logistic Regression\n",
    "\n",
    "\n",
    "\n",
    "A logistic regression model applies the sigmoid to the familiar linear regression model as shown below:\n",
    "\n",
    "$$ f_{\\mathbf{w},b}(\\mathbf{x}^{(i)}) = g(\\mathbf{w} \\cdot \\mathbf{x}^{(i)} + b ) \\tag{2} $$ \n",
    "\n",
    "  where\n",
    "\n",
    "  $g(z) = \\frac{1}{1+e^{-z}}\\tag{3}$\n"
   ]
  },
  {
   "cell_type": "markdown",
   "metadata": {},
   "source": [
    "  \n",
    "Let's apply logistic regression to the categorical data example of tumor classification.  \n",
    "First, load the examples and initial values for the parameters.\n",
    "  \n"
   ]
  },
  {
   "cell_type": "code",
   "execution_count": 34,
   "metadata": {
    "tags": []
   },
   "outputs": [],
   "source": [
    "x_train = np.array([0., 1, 2, 3, 4, 5])\n",
    "y_train = np.array([0,  0, 0, 1, 1, 1])\n",
    "\n",
    "w_in = np.zeros((1))\n",
    "b_in = 0"
   ]
  },
  {
   "cell_type": "markdown",
   "metadata": {},
   "source": [
    "Try the following steps:\n",
    "- Click on 'Run Logistic Regression' to find the best logistic regression model for the given training data\n",
    "    - Note the resulting model fits the data quite well.\n",
    "    - Note, the orange line is '$z$' or $\\mathbf{w} \\cdot \\mathbf{x}^{(i)} + b$  above. It does not match the line in a linear regression model.\n",
    "Further improve these results by applying a *threshold*. \n",
    "- Tick the box on the 'Toggle 0.5 threshold' to show the predictions if a threshold is applied.\n",
    "    - These predictions look good. The predictions match the data\n",
    "    - Now, add further data points in the large tumor size range (near 10), and re-run logistic regression.\n",
    "    - unlike the linear regression model, this model continues to make correct predictions"
   ]
  },
  {
   "cell_type": "code",
   "execution_count": 37,
   "metadata": {},
   "outputs": [],
   "source": [
    "def plt_one_addpt_onclick(x_train, y_train, w_in, b_in, logistic=True):\n",
    "\t\"\"\"\n",
    "\tFunction to add a point on click event.\n",
    "\n",
    "\tArgs:\n",
    "\t\tx_train (ndarray): Training data features.\n",
    "\t\ty_train (ndarray): Training data labels.\n",
    "\t\tw_in (ndarray): Initial weights.\n",
    "\t\tb_in (float): Initial bias.\n",
    "\t\tlogistic (bool): Whether to use logistic regression.\n",
    "\n",
    "\tReturns:\n",
    "\t\tNone\n",
    "\t\"\"\"\n",
    "\t# Your implementation here\n",
    "\tpass\n",
    "\n",
    "plt.close('all') \n",
    "addpt = plt_one_addpt_onclick(x_train, y_train, w_in, b_in, logistic=True)"
   ]
  }
 ],
 "metadata": {
  "kernelspec": {
   "display_name": "Python 3",
   "language": "python",
   "name": "python3"
  },
  "language_info": {
   "codemirror_mode": {
    "name": "ipython",
    "version": 3
   },
   "file_extension": ".py",
   "mimetype": "text/x-python",
   "name": "python",
   "nbconvert_exporter": "python",
   "pygments_lexer": "ipython3",
   "version": "3.12.4"
  }
 },
 "nbformat": 4,
 "nbformat_minor": 5
}
