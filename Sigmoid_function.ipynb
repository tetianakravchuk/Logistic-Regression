{
 "cells": [
  {
   "cell_type": "markdown",
   "metadata": {},
   "source": [
    "# Logistic Regression\n",
    "\n",
    "- explore the sigmoid function (also known as the logistic function)\n",
    "- explore logistic regression; which uses the sigmoid function"
   ]
  },
  {
   "cell_type": "code",
   "execution_count": 5,
   "metadata": {},
   "outputs": [
    {
     "ename": "ModuleNotFoundError",
     "evalue": "No module named 'plt_one_addpt_onclick'",
     "output_type": "error",
     "traceback": [
      "\u001b[0;31m---------------------------------------------------------------------------\u001b[0m",
      "\u001b[0;31mModuleNotFoundError\u001b[0m                       Traceback (most recent call last)",
      "Cell \u001b[0;32mIn[5], line 4\u001b[0m\n\u001b[1;32m      2\u001b[0m get_ipython()\u001b[38;5;241m.\u001b[39mrun_line_magic(\u001b[38;5;124m'\u001b[39m\u001b[38;5;124mmatplotlib\u001b[39m\u001b[38;5;124m'\u001b[39m, \u001b[38;5;124m'\u001b[39m\u001b[38;5;124mwidget\u001b[39m\u001b[38;5;124m'\u001b[39m)\n\u001b[1;32m      3\u001b[0m \u001b[38;5;28;01mimport\u001b[39;00m \u001b[38;5;21;01mmatplotlib\u001b[39;00m\u001b[38;5;21;01m.\u001b[39;00m\u001b[38;5;21;01mpyplot\u001b[39;00m \u001b[38;5;28;01mas\u001b[39;00m \u001b[38;5;21;01mplt\u001b[39;00m\n\u001b[0;32m----> 4\u001b[0m \u001b[38;5;28;01mfrom\u001b[39;00m \u001b[38;5;21;01mplt_one_addpt_onclick\u001b[39;00m \u001b[38;5;28;01mimport\u001b[39;00m plt_one_addpt_onclick\n\u001b[1;32m      5\u001b[0m \u001b[38;5;28;01mfrom\u001b[39;00m \u001b[38;5;21;01mlab_utils_common\u001b[39;00m \u001b[38;5;28;01mimport\u001b[39;00m draw_vthresh\n\u001b[1;32m      6\u001b[0m plt\u001b[38;5;241m.\u001b[39mstyle\u001b[38;5;241m.\u001b[39muse(\u001b[38;5;124m'\u001b[39m\u001b[38;5;124m./deeplearning.mplstyle\u001b[39m\u001b[38;5;124m'\u001b[39m)\n",
      "\u001b[0;31mModuleNotFoundError\u001b[0m: No module named 'plt_one_addpt_onclick'"
     ]
    }
   ],
   "source": [
    "import numpy as np\n",
    "%matplotlib widget\n",
    "import matplotlib.pyplot as plt\n",
    "from plt_one_addpt_onclick import plt_one_addpt_onclick\n",
    "from lab_utils_common import draw_vthresh\n",
    "plt.style.use('./deeplearning.mplstyle')"
   ]
  },
  {
   "cell_type": "markdown",
   "metadata": {},
   "source": [
    "## Sigmoid or Logistic Function\n",
    "\n",
    "\n",
    " >Linear regression model, $f_{\\mathbf{w},b}(\\mathbf{x}^{(i)}) = \\mathbf{w} \\cdot  \\mathbf{x}^{(i)} + b$, to predict $y$ given $x$. \n",
    "\n",
    " \n",
    "- However, we would like the predictions of our classification model to be between 0 and 1 since our output variable $y$ is either 0 or 1. \n",
    "- This can be accomplished by using a \"sigmoid function\" which maps all input values to values between 0 and 1. \n",
    "\n",
    "\n",
    "Let's implement the sigmoid function and see this for ourselves.\n",
    "\n",
    "## Formula for Sigmoid function\n",
    "\n",
    "The formula for a sigmoid function is as follows -  \n",
    "\n",
    "$g(z) = \\frac{1}{1+e^{-z}}\\tag{1}$\n",
    "\n",
    "In the case of logistic regression, z (the input to the sigmoid function), is the output of a linear regression model. \n",
    "- In the case of a single example, $z$ is scalar.\n",
    "- in the case of multiple examples, $z$ may be a vector consisting of $m$ values, one for each example. \n",
    "- The implementation of the sigmoid function should cover both of these potential input formats.\n",
    "Let's implement this in Python."
   ]
  },
  {
   "cell_type": "markdown",
   "metadata": {},
   "source": [
    "NumPy has a function called [`exp()`](https://numpy.org/doc/stable/reference/generated/numpy.exp.html), which offers a convenient way to calculate the exponential ( $e^{z}$) of all elements in the input array (`z`).\n",
    " \n",
    "It also works with a single number as an input, as shown below."
   ]
  },
  {
   "cell_type": "code",
   "execution_count": 10,
   "metadata": {},
   "outputs": [
    {
     "name": "stdout",
     "output_type": "stream",
     "text": [
      "Input to exp: [1 2 3]\n",
      "Output of exp: [ 2.718  7.389 20.086]\n",
      "Input to exp: 1\n",
      "Output of exp: 2.718281828459045\n"
     ]
    }
   ],
   "source": [
    "# Input is an array. \n",
    "input_array = np.array([1,2,3])\n",
    "exp_array = np.exp(input_array)\n",
    "\n",
    "print(\"Input to exp:\", input_array)\n",
    "print(\"Output of exp:\", exp_array)\n",
    "\n",
    "# Input is a single number\n",
    "input_val = 1  \n",
    "exp_val = np.exp(input_val)\n",
    "\n",
    "print(\"Input to exp:\", input_val)\n",
    "print(\"Output of exp:\", exp_val)"
   ]
  },
  {
   "cell_type": "markdown",
   "metadata": {},
   "source": [
    "The `sigmoid` function is implemented in python as shown in the cell below."
   ]
  },
  {
   "cell_type": "code",
   "execution_count": 11,
   "metadata": {},
   "outputs": [],
   "source": [
    "def sigmoid(z):\n",
    "    \"\"\"\n",
    "    Compute the sigmoid of z\n",
    "\n",
    "    Args:\n",
    "        z (ndarray): A scalar, numpy array of any size.\n",
    "\n",
    "    Returns:\n",
    "        g (ndarray): sigmoid(z), with the same shape as z\n",
    "         \n",
    "    \"\"\"\n",
    "\n",
    "    g = 1/(1+np.exp(-z))\n",
    "   \n",
    "    return g"
   ]
  },
  {
   "cell_type": "markdown",
   "metadata": {},
   "source": [
    "Let's see what the output of this function is for various value of `z`"
   ]
  },
  {
   "cell_type": "code",
   "execution_count": 14,
   "metadata": {},
   "outputs": [
    {
     "name": "stdout",
     "output_type": "stream",
     "text": [
      "Input (z), Output (sigmoid(z))\n",
      "[[-1.000e+01  4.540e-05]\n",
      " [-9.000e+00  1.234e-04]\n",
      " [-8.000e+00  3.354e-04]\n",
      " [-7.000e+00  9.111e-04]\n",
      " [-6.000e+00  2.473e-03]\n",
      " [-5.000e+00  6.693e-03]\n",
      " [-4.000e+00  1.799e-02]\n",
      " [-3.000e+00  4.743e-02]\n",
      " [-2.000e+00  1.192e-01]\n",
      " [-1.000e+00  2.689e-01]\n",
      " [ 0.000e+00  5.000e-01]\n",
      " [ 1.000e+00  7.311e-01]\n",
      " [ 2.000e+00  8.808e-01]\n",
      " [ 3.000e+00  9.526e-01]\n",
      " [ 4.000e+00  9.820e-01]\n",
      " [ 5.000e+00  9.933e-01]\n",
      " [ 6.000e+00  9.975e-01]\n",
      " [ 7.000e+00  9.991e-01]\n",
      " [ 8.000e+00  9.997e-01]\n",
      " [ 9.000e+00  9.999e-01]\n",
      " [ 1.000e+01  1.000e+00]]\n"
     ]
    }
   ],
   "source": [
    "# Generate an array of evenly spaced values between -10 and 10\n",
    "z_tmp = np.arange(-10,11)\n",
    "\n",
    "# Use the function implemented above to get the sigmoid values\n",
    "y = sigmoid(z_tmp)\n",
    "\n",
    "# Code for pretty printing the two arrays next to each other\n",
    "np.set_printoptions(precision=3) \n",
    "print(\"Input (z), Output (sigmoid(z))\")\n",
    "print(np.c_[z_tmp, y])"
   ]
  },
  {
   "cell_type": "markdown",
   "metadata": {},
   "source": [
    "The values in the left column are `z`, and the values in the right column are `sigmoid(z)`. As you can see, the input values to the sigmoid range from -10 to 10, and the output values range from 0 to 1. \n",
    "\n",
    "Now, let's try to plot this function using the `matplotlib` library."
   ]
  },
  {
   "cell_type": "code",
   "execution_count": 15,
   "metadata": {},
   "outputs": [
    {
     "ename": "NameError",
     "evalue": "name 'draw_vthresh' is not defined",
     "output_type": "error",
     "traceback": [
      "\u001b[0;31m---------------------------------------------------------------------------\u001b[0m",
      "\u001b[0;31mNameError\u001b[0m                                 Traceback (most recent call last)",
      "Cell \u001b[0;32mIn[15], line 8\u001b[0m\n\u001b[1;32m      6\u001b[0m ax\u001b[38;5;241m.\u001b[39mset_ylabel(\u001b[38;5;124m'\u001b[39m\u001b[38;5;124msigmoid(z)\u001b[39m\u001b[38;5;124m'\u001b[39m)\n\u001b[1;32m      7\u001b[0m ax\u001b[38;5;241m.\u001b[39mset_xlabel(\u001b[38;5;124m'\u001b[39m\u001b[38;5;124mz\u001b[39m\u001b[38;5;124m'\u001b[39m)\n\u001b[0;32m----> 8\u001b[0m draw_vthresh(ax,\u001b[38;5;241m0\u001b[39m)\n",
      "\u001b[0;31mNameError\u001b[0m: name 'draw_vthresh' is not defined"
     ]
    },
    {
     "data": {
      "application/vnd.jupyter.widget-view+json": {
       "model_id": "c3e42e5440b74487a184bc02bd1f3829",
       "version_major": 2,
       "version_minor": 0
      },
      "image/png": "[encoded data removed]",
      "text/html": [
       "\n",
       "            <div style=\"display: inline-block;\">\n",
       "                <div class=\"jupyter-widgets widget-label\" style=\"text-align: center;\">\n",
       "                    Figure\n",
       "                </div>\n",
       "                <img src='data:image/png;base64,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' width=500.0/>\n",
       "            </div>\n",
       "        "
      ],
      "text/plain": [
       "Canvas(toolbar=Toolbar(toolitems=[('Home', 'Reset original view', 'home', 'home'), ('Back', 'Back to previous …"
      ]
     },
     "metadata": {},
     "output_type": "display_data"
    }
   ],
   "source": [
    "# Plot z vs sigmoid(z)\n",
    "fig,ax = plt.subplots(1,1,figsize=(5,3))\n",
    "ax.plot(z_tmp, y, c=\"b\")\n",
    "\n",
    "ax.set_title(\"Sigmoid function\")\n",
    "ax.set_ylabel('sigmoid(z)')\n",
    "ax.set_xlabel('z')\n",
    "draw_vthresh(ax,0)"
   ]
  },
  {
   "cell_type": "markdown",
   "metadata": {},
   "source": [
    "As you can see, the sigmoid function approaches  `0` as `z` goes to large negative values and approaches `1` as `z` goes to large positive values.\n"
   ]
  },
  {
   "cell_type": "markdown",
   "metadata": {},
   "source": [
    "## Logistic Regression\n",
    "\n",
    "\n",
    "\n",
    "A logistic regression model applies the sigmoid to the familiar linear regression model as shown below:\n",
    "\n",
    "$$ f_{\\mathbf{w},b}(\\mathbf{x}^{(i)}) = g(\\mathbf{w} \\cdot \\mathbf{x}^{(i)} + b ) \\tag{2} $$ \n",
    "\n",
    "  where\n",
    "\n",
    "  $g(z) = \\frac{1}{1+e^{-z}}\\tag{3}$\n"
   ]
  },
  {
   "cell_type": "markdown",
   "metadata": {},
   "source": [
    "  \n",
    "Let's apply logistic regression to the categorical data example of tumor classification.  \n",
    "First, load the examples and initial values for the parameters.\n",
    "  \n"
   ]
  },
  {
   "cell_type": "code",
   "execution_count": null,
   "metadata": {
    "tags": []
   },
   "outputs": [],
   "source": [
    "x_train = np.array([0., 1, 2, 3, 4, 5])\n",
    "y_train = np.array([0,  0, 0, 1, 1, 1])\n",
    "\n",
    "w_in = np.zeros((1))\n",
    "b_in = 0"
   ]
  },
  {
   "cell_type": "markdown",
   "metadata": {},
   "source": [
    "Try the following steps:\n",
    "- Click on 'Run Logistic Regression' to find the best logistic regression model for the given training data\n",
    "    - Note the resulting model fits the data quite well.\n",
    "    - Note, the orange line is '$z$' or $\\mathbf{w} \\cdot \\mathbf{x}^{(i)} + b$  above. It does not match the line in a linear regression model.\n",
    "Further improve these results by applying a *threshold*. \n",
    "- Tick the box on the 'Toggle 0.5 threshold' to show the predictions if a threshold is applied.\n",
    "    - These predictions look good. The predictions match the data\n",
    "    - Now, add further data points in the large tumor size range (near 10), and re-run logistic regression.\n",
    "    - unlike the linear regression model, this model continues to make correct predictions"
   ]
  },
  {
   "cell_type": "code",
   "execution_count": null,
   "metadata": {},
   "outputs": [],
   "source": [
    "plt.close('all') \n",
    "addpt = plt_one_addpt_onclick( x_train,y_train, w_in, b_in, logistic=True)"
   ]
  }
 ],
 "metadata": {
  "kernelspec": {
   "display_name": "Python 3",
   "language": "python",
   "name": "python3"
  },
  "language_info": {
   "codemirror_mode": {
    "name": "ipython",
    "version": 3
   },
   "file_extension": ".py",
   "mimetype": "text/x-python",
   "name": "python",
   "nbconvert_exporter": "python",
   "pygments_lexer": "ipython3",
   "version": "3.12.4"
  }
 },
 "nbformat": 4,
 "nbformat_minor": 5
}
